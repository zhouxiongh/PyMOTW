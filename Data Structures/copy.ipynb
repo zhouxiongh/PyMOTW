{
 "cells": [
  {
   "cell_type": "code",
   "execution_count": null,
   "metadata": {},
   "outputs": [],
   "source": [
    "# copy shallow\n",
    "import copy\n",
    "import functools\n",
    "\n",
    "\n",
    "@functools.total_ordering\n",
    "class MyClass:\n",
    "\n",
    "    def __init__(self, name):\n",
    "        self.name = name\n",
    "\n",
    "    def __eq__(self, other):\n",
    "        return self.name == other.name\n",
    "\n",
    "    def __gt__(self, other):\n",
    "        return self.name > other.name\n",
    "\n",
    "\n",
    "a = MyClass('a')\n",
    "my_list = [a]\n",
    "dup = copy.copy(my_list)\n",
    "# dup = my_list\n",
    "\n",
    "print('             my_list:', my_list)\n",
    "print('                 dup:', dup)\n",
    "print('          my_list[0]:', my_list[0])\n",
    "print('              dup[0]:', dup[0])\n",
    "print('      dup is my_list:', (dup is my_list))\n",
    "print('      dup == my_list:', (dup == my_list))\n",
    "print('dup[0] is my_list[0]:', (dup[0] is my_list[0]))\n",
    "print('dup[0] == my_list[0]:', (dup[0] == my_list[0]))"
   ]
  },
  {
   "cell_type": "code",
   "execution_count": null,
   "metadata": {},
   "outputs": [],
   "source": [
    "# copy deep\n",
    "import copy\n",
    "import functools\n",
    "\n",
    "\n",
    "@functools.total_ordering\n",
    "class MyClass:\n",
    "\n",
    "    def __init__(self, name):\n",
    "        self.name = name\n",
    "\n",
    "    def __eq__(self, other):\n",
    "        return self.name == other.name\n",
    "\n",
    "    def __gt__(self, other):\n",
    "        return self.name > other.name\n",
    "\n",
    "\n",
    "a = MyClass('a')\n",
    "my_list = [a]\n",
    "dup = copy.deepcopy(my_list)\n",
    "# dup = my_list\n",
    "\n",
    "print('             my_list:', my_list)\n",
    "print('                 dup:', dup)\n",
    "print('          my_list[0]:', my_list[0])\n",
    "print('              dup[0]:', dup[0])\n",
    "print('      dup is my_list:', (dup is my_list))\n",
    "print('      dup == my_list:', (dup == my_list))\n",
    "print('dup[0] is my_list[0]:', (dup[0] is my_list[0]))\n",
    "print('dup[0] == my_list[0]:', (dup[0] == my_list[0]))"
   ]
  },
  {
   "cell_type": "markdown",
   "metadata": {},
   "source": [
    "### Customizing Copy Behavior\n",
    "It is possible to control how copies are made using the __copy__() and __deepcopy__() special methods.\n",
    "* __copy__() is called without any arguments and should return a shallow copy of the object.\n",
    "* __deepcopy__() is called with a memo dictionary and should return a deep copy of the object. Any member attributes that need to be deep-copied should be passed to copy.deepcopy(), along with the memo dictionary, to control for recursion. (The memo dictionary is explained in more detail later.)"
   ]
  },
  {
   "cell_type": "code",
   "execution_count": 11,
   "metadata": {},
   "outputs": [
    {
     "name": "stdout",
     "output_type": "stream",
     "text": [
      "__copy__()\n",
      "__deepcopy__({})\n"
     ]
    }
   ],
   "source": [
    "# copy hooks\n",
    "import copy\n",
    "import functools\n",
    "\n",
    "\n",
    "@functools.total_ordering\n",
    "class MyClass:\n",
    "\n",
    "    def __init__(self, name):\n",
    "        self.name = name\n",
    "\n",
    "    def __eq__(self, other):\n",
    "        return self.name == other.name\n",
    "\n",
    "    def __gt__(self, other):\n",
    "        return self.name > other.name\n",
    "\n",
    "    def __copy__(self):\n",
    "        print('__copy__()')\n",
    "        return MyClass(self.name)\n",
    "\n",
    "    def __deepcopy__(self, memo):\n",
    "        print('__deepcopy__({})'.format(memo))\n",
    "        return MyClass(copy.deepcopy(self.name, memo))\n",
    "\n",
    "\n",
    "a = MyClass('a')\n",
    "\n",
    "sc = copy.copy(a)\n",
    "dc = copy.deepcopy(a)"
   ]
  }
 ],
 "metadata": {
  "interpreter": {
   "hash": "8bbba42557dad1871038e5d82a5cee12533bc6a394921612203c9254a4ccd62d"
  },
  "kernelspec": {
   "display_name": "Python 3.9.7 64-bit ('3.9.7': virtualenv)",
   "name": "python3"
  },
  "language_info": {
   "codemirror_mode": {
    "name": "ipython",
    "version": 3
   },
   "file_extension": ".py",
   "mimetype": "text/x-python",
   "name": "python",
   "nbconvert_exporter": "python",
   "pygments_lexer": "ipython3",
   "version": "3.9.7"
  },
  "orig_nbformat": 4
 },
 "nbformat": 4,
 "nbformat_minor": 2
}
