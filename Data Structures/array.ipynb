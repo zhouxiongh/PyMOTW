{
 "cells": [
  {
   "cell_type": "markdown",
   "id": "4c761507-db91-4aa1-b3ce-f646cf6d8953",
   "metadata": {},
   "source": [
    "目的：有效的管理序列化的固定类型结构的数值型数据"
   ]
  },
  {
   "cell_type": "code",
   "execution_count": 1,
   "id": "4cc43392-9b91-411b-b595-7aa573ea86eb",
   "metadata": {},
   "outputs": [
    {
     "name": "stdout",
     "output_type": "stream",
     "text": [
      "As byte string: b'This is the array.'\n",
      "As array      : array('b', [84, 104, 105, 115, 32, 105, 115, 32, 116, 104, 101, 32, 97, 114, 114, 97, 121, 46])\n",
      "As hex        : b'54686973206973207468652061727261792e'\n"
     ]
    }
   ],
   "source": [
    "import array\n",
    "import binascii\n",
    "\n",
    "s = b'This is the array.'\n",
    "a = array.array('b', s)\n",
    "\n",
    "print('As byte string:', s)\n",
    "print('As array      :', a)\n",
    "print('As hex        :', binascii.hexlify(a))"
   ]
  },
  {
   "cell_type": "code",
   "execution_count": 2,
   "id": "c9ccd59c-87bb-45f8-9e12-0126239a4e28",
   "metadata": {},
   "outputs": [
    {
     "name": "stdout",
     "output_type": "stream",
     "text": [
      "Initial : array('i', [0, 1, 2])\n",
      "Extended: array('i', [0, 1, 2, 0, 1, 2])\n",
      "Slice   : array('i', [2, 0, 1])\n",
      "Iterator:\n",
      "[(0, 0), (1, 1), (2, 2), (3, 0), (4, 1), (5, 2)]\n"
     ]
    }
   ],
   "source": [
    "import array\n",
    "import pprint\n",
    "\n",
    "a = array.array('i', range(3))\n",
    "print('Initial :', a)\n",
    "\n",
    "a.extend(range(3))\n",
    "print('Extended:', a)\n",
    "\n",
    "print('Slice   :', a[2:5])\n",
    "\n",
    "print('Iterator:')\n",
    "print(list(enumerate(a)))"
   ]
  },
  {
   "cell_type": "code",
   "execution_count": 3,
   "id": "79811636-fecd-4e97-85a6-06dc5e1bac32",
   "metadata": {},
   "outputs": [
    {
     "name": "stdout",
     "output_type": "stream",
     "text": [
      "A1: array('i', [0, 1, 2, 3, 4])\n",
      "Raw Contents: b'0000000001000000020000000300000004000000'\n",
      "A2: array('i', [0, 1, 2, 3, 4])\n"
     ]
    }
   ],
   "source": [
    "import array\n",
    "import binascii\n",
    "import tempfile\n",
    "\n",
    "a = array.array('i', range(5))\n",
    "print('A1:', a)\n",
    "\n",
    "# 将数字数组写入临时文件\n",
    "output = tempfile.NamedTemporaryFile()\n",
    "a.tofile(output.file)  # 必须传递一个 *真正的* 文件\n",
    "output.flush()\n",
    "\n",
    "# 读取原始数据\n",
    "with open(output.name, 'rb') as input:\n",
    "    raw_data = input.read()\n",
    "    print('Raw Contents:', binascii.hexlify(raw_data))\n",
    "\n",
    "    # 将数据读取到一个数组中\n",
    "    input.seek(0)\n",
    "    a2 = array.array('i')\n",
    "    a2.fromfile(input, len(a))\n",
    "    print('A2:', a2)"
   ]
  },
  {
   "cell_type": "code",
   "execution_count": 4,
   "id": "cec01bd6-b05e-485b-bb6f-ba09fec527fb",
   "metadata": {},
   "outputs": [
    {
     "name": "stdout",
     "output_type": "stream",
     "text": [
      "A1: array('i', [0, 1, 2, 3, 4])\n",
      "Bytes: b'0000000001000000020000000300000004000000'\n",
      "A2: array('i', [0, 1, 2, 3, 4])\n"
     ]
    }
   ],
   "source": [
    "import array\n",
    "import binascii\n",
    "\n",
    "a = array.array('i', range(5))\n",
    "print('A1:', a)\n",
    "\n",
    "as_bytes = a.tobytes()\n",
    "print('Bytes:', binascii.hexlify(as_bytes))\n",
    "\n",
    "a2 = array.array('i')\n",
    "a2.frombytes(as_bytes)\n",
    "print('A2:', a2)"
   ]
  },
  {
   "cell_type": "code",
   "execution_count": 5,
   "id": "3b09a91b-6821-47e9-bc3f-9bb6f5203305",
   "metadata": {},
   "outputs": [
    {
     "name": "stdout",
     "output_type": "stream",
     "text": [
      "      A1 hex           A1       A2 hex           A2\n",
      "------------ ------------ ------------ ------------\n",
      " b'78563412'    305419896  b'12345678'   2018915346\n",
      " b'79563412'    305419897  b'12345679'   2035692562\n",
      " b'7a563412'    305419898  b'1234567a'   2052469778\n",
      " b'7b563412'    305419899  b'1234567b'   2069246994\n",
      " b'7c563412'    305419900  b'1234567c'   2086024210\n"
     ]
    }
   ],
   "source": [
    "import array\n",
    "import binascii\n",
    "\n",
    "def to_hex(a):\n",
    "    chars_per_item = a.itemsize * 2  # 2 个16进制数字\n",
    "    hex_version = binascii.hexlify(a)\n",
    "    num_chunks = len(hex_version) // chars_per_item\n",
    "    for i in range(num_chunks):\n",
    "        start = i * chars_per_item\n",
    "        end = start + chars_per_item\n",
    "        yield hex_version[start:end]\n",
    "\n",
    "start = int('0x12345678', 16)\n",
    "end = start + 5\n",
    "a1 = array.array('i', range(start, end))\n",
    "a2 = array.array('i', range(start, end))\n",
    "a2.byteswap()\n",
    "\n",
    "fmt = '{:>12} {:>12} {:>12} {:>12}'\n",
    "print(fmt.format('A1 hex', 'A1', 'A2 hex', 'A2'))\n",
    "print(fmt.format('-' * 12, '-' * 12, '-' * 12, '-' * 12))\n",
    "fmt = '{!r:>12} {:12} {!r:>12} {:12}'\n",
    "for values in zip(to_hex(a1), a1, to_hex(a2), a2):\n",
    "    print(fmt.format(*values))"
   ]
  },
  {
   "cell_type": "raw",
   "id": "b26c4b60-3da7-4087-8389-d4d2ce2dedb7",
   "metadata": {},
   "source": [
    "byteswap() 方法可以在 C 语言 中切换数组中项的字节顺序，因此它比在 Python 中对数据进行循环要高效得多。"
   ]
  },
  {
   "cell_type": "code",
   "execution_count": null,
   "id": "2a7e2761-3d3b-40cb-bf70-a31cad41f6cf",
   "metadata": {},
   "outputs": [],
   "source": []
  }
 ],
 "metadata": {
  "kernelspec": {
   "display_name": "Python 3 (ipykernel)",
   "language": "python",
   "name": "python3"
  },
  "language_info": {
   "codemirror_mode": {
    "name": "ipython",
    "version": 3
   },
   "file_extension": ".py",
   "mimetype": "text/x-python",
   "name": "python",
   "nbconvert_exporter": "python",
   "pygments_lexer": "ipython3",
   "version": "3.9.7"
  }
 },
 "nbformat": 4,
 "nbformat_minor": 5
}
