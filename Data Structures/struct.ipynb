{
 "cells": [
  {
   "cell_type": "code",
   "execution_count": 1,
   "metadata": {
    "collapsed": true
   },
   "outputs": [
    {
     "name": "stdout",
     "output_type": "stream",
     "text": [
      "原始值: (1, b'ab', 2.7)\n",
      "格式符: I 2s f\n",
      "占用字节: 12 bytes\n",
      "打包结果: b'0100000061620000cdcc2c40'\n"
     ]
    }
   ],
   "source": [
    "import struct\n",
    "import binascii\n",
    "\n",
    "values = (1, 'ab'.encode('utf-8'), 2.7)\n",
    "s = struct.Struct('I 2s f')\n",
    "packed_data = s.pack(*values)\n",
    "\n",
    "print('原始值:', values)\n",
    "print('格式符:', s.format)\n",
    "print('占用字节:', s.size, 'bytes')\n",
    "print('打包结果:', binascii.hexlify(packed_data))"
   ]
  },
  {
   "cell_type": "code",
   "execution_count": 2,
   "outputs": [
    {
     "name": "stdout",
     "output_type": "stream",
     "text": [
      "解包结果 (1, b'ab', 2.700000047683716)\n"
     ]
    }
   ],
   "source": [
    "import struct\n",
    "import binascii\n",
    "\n",
    "packed_data = binascii.unhexlify(b'0100000061620000cdcc2c40')\n",
    "\n",
    "s = struct.Struct('I 2s f')\n",
    "unpacked_data = s.unpack(packed_data)\n",
    "print('解包结果', unpacked_data)"
   ],
   "metadata": {
    "collapsed": false,
    "pycharm": {
     "name": "#%%\n"
    }
   }
  },
  {
   "cell_type": "code",
   "execution_count": 2,
   "outputs": [
    {
     "name": "stdout",
     "output_type": "stream",
     "text": [
      "原始值 : (1, b'ab', 2.7)\n",
      "\n",
      "格式符 : @ I 2s f for native, native\n",
      "占用字节 : 12 bytes\n",
      "打包结果 : b'0100000061620000cdcc2c40'\n",
      "解包结果 : (1, b'ab', 2.700000047683716)\n",
      "\n",
      "格式符 : = I 2s f for native, standard\n",
      "占用字节 : 10 bytes\n",
      "打包结果 : b'010000006162cdcc2c40'\n",
      "解包结果 : (1, b'ab', 2.700000047683716)\n",
      "\n",
      "格式符 : < I 2s f for little-endian\n",
      "占用字节 : 10 bytes\n",
      "打包结果 : b'010000006162cdcc2c40'\n",
      "解包结果 : (1, b'ab', 2.700000047683716)\n",
      "\n",
      "格式符 : > I 2s f for big-endian\n",
      "占用字节 : 10 bytes\n",
      "打包结果 : b'000000016162402ccccd'\n",
      "解包结果 : (1, b'ab', 2.700000047683716)\n",
      "\n",
      "格式符 : ! I 2s f for network\n",
      "占用字节 : 10 bytes\n",
      "打包结果 : b'000000016162402ccccd'\n",
      "解包结果 : (1, b'ab', 2.700000047683716)\n"
     ]
    }
   ],
   "source": [
    "import struct\n",
    "import binascii\n",
    "\n",
    "values = (1, 'ab'.encode('utf-8'), 2.7)\n",
    "print('原始值 :', values)\n",
    "\n",
    "endianness = [\n",
    "    ('@', 'native, native'),\n",
    "    ('=', 'native, standard'),\n",
    "    ('<', 'little-endian'),\n",
    "    ('>', 'big-endian'),\n",
    "    ('!', 'network'),\n",
    "]\n",
    "\n",
    "for code, name in endianness:\n",
    "    s = struct.Struct(code + ' I 2s f')\n",
    "    packed_data = s.pack(*values)\n",
    "    print()\n",
    "    print('格式符 :', s.format, 'for', name)\n",
    "    print('占用字节 :', s.size, 'bytes')\n",
    "    print('打包结果 :', binascii.hexlify(packed_data))\n",
    "    print('解包结果 :', s.unpack(packed_data))"
   ],
   "metadata": {
    "collapsed": false,
    "pycharm": {
     "name": "#%%\n"
    }
   }
  },
  {
   "cell_type": "code",
   "execution_count": 2,
   "outputs": [
    {
     "name": "stdout",
     "output_type": "stream",
     "text": [
      "原始值: (1, b'ab', 2.7)\n",
      "\n",
      "使用了ctypes 模块的字符串缓冲区\n",
      "原始 buffer : b'000000000000000000000000'\n",
      "打包结果写入 : b'0100000061620000cdcc2c40'\n",
      "解包 : (1, b'ab', 2.700000047683716)\n",
      "\n",
      "使用了 array 模块\n",
      "原始值 : b'000000000000000000000000'\n",
      "打包写入 : b'0100000061620000cdcc2c40'\n",
      "解包 : (1, b'ab', 2.700000047683716)\n"
     ]
    }
   ],
   "source": [
    "import array\n",
    "import binascii\n",
    "import ctypes\n",
    "import struct\n",
    "\n",
    "s = struct.Struct('I 2s f')\n",
    "values = (1, 'ab'.encode('utf-8'), 2.7)\n",
    "print('原始值:', values)\n",
    "\n",
    "print()\n",
    "print('使用了ctypes 模块的字符串缓冲区')\n",
    "\n",
    "b = ctypes.create_string_buffer(s.size)\n",
    "print('原始 buffer :', binascii.hexlify(b.raw))\n",
    "s.pack_into(b, 0, *values)\n",
    "print('打包结果写入 :', binascii.hexlify(b.raw))\n",
    "print('解包 :', s.unpack_from(b, 0))\n",
    "\n",
    "print()\n",
    "print('使用了 array 模块')\n",
    "\n",
    "a = array.array('b', b'\\0' * s.size)\n",
    "print('原始值 :', binascii.hexlify(a))\n",
    "s.pack_into(a, 0, *values)\n",
    "print('打包写入 :', binascii.hexlify(a))\n",
    "print('解包 :', s.unpack_from(a, 0))"
   ],
   "metadata": {
    "collapsed": false,
    "pycharm": {
     "name": "#%%\n"
    }
   }
  }
 ],
 "metadata": {
  "kernelspec": {
   "display_name": "Python 3",
   "language": "python",
   "name": "python3"
  },
  "language_info": {
   "codemirror_mode": {
    "name": "ipython",
    "version": 2
   },
   "file_extension": ".py",
   "mimetype": "text/x-python",
   "name": "python",
   "nbconvert_exporter": "python",
   "pygments_lexer": "ipython2",
   "version": "2.7.6"
  }
 },
 "nbformat": 4,
 "nbformat_minor": 0
}