{
 "cells": [
  {
   "cell_type": "code",
   "execution_count": null,
   "metadata": {},
   "outputs": [],
   "source": [
    "import weakref\n",
    "\n",
    "class ExpensiveObject:\n",
    "    def __del__(self):\n",
    "        print(\"(Deleting {})\".format(self))\n",
    "\n",
    "\n",
    "obj = ExpensiveObject()\n",
    "r = weakref.ref(obj)\n",
    "\n",
    "print('obj:', obj)\n",
    "print('ref:', r)\n",
    "print('r():', r())\n",
    "\n",
    "print('deleting obj')\n",
    "del obj\n",
    "print('r():', r())"
   ]
  },
  {
   "cell_type": "code",
   "execution_count": null,
   "metadata": {},
   "outputs": [],
   "source": [
    "import weakref\n",
    "\n",
    "\n",
    "class ExpensiveObject:\n",
    "\n",
    "    def __del__(self):\n",
    "        print('(Deleting {})'.format(self))\n",
    "\n",
    "\n",
    "def callback(reference):\n",
    "    \"\"\"Invoked when referenced object is deleted\"\"\"\n",
    "    print('callback({!r})'.format(reference))\n",
    "\n",
    "\n",
    "obj = ExpensiveObject()\n",
    "r = weakref.ref(obj, callback)\n",
    "\n",
    "print('obj:', obj)\n",
    "print('ref:', r)\n",
    "print('r():', r())\n",
    "\n",
    "print('deleting obj')\n",
    "del obj\n",
    "print('r():', r())"
   ]
  },
  {
   "cell_type": "code",
   "execution_count": null,
   "metadata": {},
   "outputs": [],
   "source": [
    "# weakref_finalize\n",
    "import weakref\n",
    "\n",
    "\n",
    "class ExpensiveObject:\n",
    "\n",
    "    def __del__(self):\n",
    "        print('(Deleting {})'.format(self))\n",
    "\n",
    "\n",
    "def on_finalize(*args):\n",
    "    print('on_finalize({!r})'.format(args))\n",
    "\n",
    "\n",
    "obj = ExpensiveObject()\n",
    "weakref.finalize(obj, on_finalize, 'extra argument')\n",
    "\n",
    "del obj"
   ]
  },
  {
   "cell_type": "code",
   "execution_count": null,
   "metadata": {},
   "outputs": [],
   "source": [
    "# weakref_finalize_atexit\n",
    "import sys\n",
    "import weakref\n",
    "\n",
    "\n",
    "class ExpensiveObject:\n",
    "\n",
    "    def __del__(self):\n",
    "        print('(Deleting {})'.format(self))\n",
    "\n",
    "\n",
    "def on_finalize(*args):\n",
    "    print('on_finalize({!r})'.format(args))\n",
    "\n",
    "\n",
    "obj = ExpensiveObject()\n",
    "f = weakref.finalize(obj, on_finalize, 'extra argument')\n",
    "input_data = 1\n",
    "# input_data = 0\n",
    "f.atexit = bool(input_data)"
   ]
  }
 ],
 "metadata": {
  "interpreter": {
   "hash": "3cf3e653b5d088cea00ee2d406836c37d1b926441b0452be0b1770764ad34b1d"
  },
  "kernelspec": {
   "display_name": "Python 3.8.9 64-bit ('my_environment': virtualenv)",
   "name": "python3"
  },
  "language_info": {
   "codemirror_mode": {
    "name": "ipython",
    "version": 3
   },
   "file_extension": ".py",
   "mimetype": "text/x-python",
   "name": "python",
   "nbconvert_exporter": "python",
   "pygments_lexer": "ipython3",
   "version": "3.8.9"
  },
  "orig_nbformat": 4
 },
 "nbformat": 4,
 "nbformat_minor": 2
}
