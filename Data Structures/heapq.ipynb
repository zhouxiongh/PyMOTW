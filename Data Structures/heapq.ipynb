{
 "cells": [
  {
   "cell_type": "code",
   "execution_count": 19,
   "metadata": {
    "collapsed": false,
    "pycharm": {
     "name": "#%%\n"
    }
   },
   "outputs": [],
   "source": [
    "import math\n",
    "from io import StringIO\n",
    "\n",
    "def show_tree(tree, total_width=36, fill=' '):\n",
    "    \"\"\"漂亮的打印一棵树。\"\"\"\n",
    "    output = StringIO()\n",
    "    last_row = -1\n",
    "    for i, n in enumerate(tree):\n",
    "        if i:\n",
    "            row = int(math.floor(math.log(i + 1, 2)))\n",
    "        else:\n",
    "            row = 0\n",
    "        if row != last_row:\n",
    "            output.write('\\n')\n",
    "        columns = 2 ** row\n",
    "        col_width = int(math.floor(total_width / columns))\n",
    "        output.write(str(n).center(col_width, fill))\n",
    "        last_row = row\n",
    "    print(output.getvalue())\n",
    "    print('-' * total_width)\n",
    "    print()"
   ]
  },
  {
   "cell_type": "code",
   "execution_count": 20,
   "metadata": {},
   "outputs": [
    {
     "name": "stdout",
     "output_type": "stream",
     "text": [
      "random : [87, 77, 87, 52, 40]\n",
      "\n",
      "add  87:\n",
      "\n",
      "                 87                 \n",
      "------------------------------------\n",
      "\n",
      "add  77:\n",
      "\n",
      "                 77                 \n",
      "        87        \n",
      "------------------------------------\n",
      "\n",
      "add  87:\n",
      "\n",
      "                 77                 \n",
      "        87                87        \n",
      "------------------------------------\n",
      "\n",
      "add  52:\n",
      "\n",
      "                 52                 \n",
      "        77                87        \n",
      "    87   \n",
      "------------------------------------\n",
      "\n",
      "add  40:\n",
      "\n",
      "                 40                 \n",
      "        52                87        \n",
      "    87       77   \n",
      "------------------------------------\n",
      "\n"
     ]
    }
   ],
   "source": [
    "import heapq\n",
    "\n",
    "import random\n",
    "data = [random.randint(0, 99) for i in range(5)]\n",
    "\n",
    "heap = []\n",
    "print('random :', data)\n",
    "print()\n",
    "\n",
    "for n in data:\n",
    "    print('add {:>3}:'.format(n))\n",
    "    heapq.heappush(heap, n)\n",
    "    show_tree(heap)"
   ]
  },
  {
   "cell_type": "code",
   "execution_count": 21,
   "metadata": {},
   "outputs": [
    {
     "name": "stdout",
     "output_type": "stream",
     "text": [
      "random    : [87, 77, 87, 52, 40]\n",
      "heapified :\n",
      "\n",
      "                 40                 \n",
      "        52                87        \n",
      "    87       77   \n",
      "------------------------------------\n",
      "\n"
     ]
    }
   ],
   "source": [
    "import heapq\n",
    "\n",
    "print('random    :', data)\n",
    "heapq.heapify(data)\n",
    "print('heapified :')\n",
    "show_tree(data)"
   ]
  },
  {
   "cell_type": "code",
   "execution_count": 22,
   "outputs": [
    {
     "name": "stdout",
     "output_type": "stream",
     "text": [
      "random    : [92, 92, 75, 53, 58]\n",
      "heapified :\n",
      "\n",
      "                 53                 \n",
      "        58                75        \n",
      "    92       92   \n",
      "------------------------------------\n",
      "\n",
      "\n",
      "pop     53:\n",
      "\n",
      "                 58                 \n",
      "        92                75        \n",
      "    92   \n",
      "------------------------------------\n",
      "\n",
      "pop     58:\n",
      "\n",
      "                 75                 \n",
      "        92                92        \n",
      "------------------------------------\n",
      "\n"
     ]
    }
   ],
   "source": [
    "import heapq\n",
    "\n",
    "import random\n",
    "data = [random.randint(0, 99) for i in range(5)]\n",
    "\n",
    "print('random    :', data)\n",
    "heapq.heapify(data)\n",
    "print('heapified :')\n",
    "show_tree(data)\n",
    "print()\n",
    "\n",
    "for i in range(2):\n",
    "    smallest = heapq.heappop(data)\n",
    "    print('pop    {:>3}:'.format(smallest))\n",
    "    show_tree(data)"
   ],
   "metadata": {
    "collapsed": false,
    "pycharm": {
     "name": "#%%\n"
    }
   }
  },
  {
   "cell_type": "code",
   "execution_count": 23,
   "outputs": [
    {
     "name": "stdout",
     "output_type": "stream",
     "text": [
      "start:\n",
      "\n",
      "                 75                 \n",
      "        92                92        \n",
      "------------------------------------\n",
      "\n",
      "replace 75 with  0:\n",
      "\n",
      "                 0                  \n",
      "        92                92        \n",
      "------------------------------------\n",
      "\n",
      "replace  0 with 13:\n",
      "\n",
      "                 13                 \n",
      "        92                92        \n",
      "------------------------------------\n",
      "\n"
     ]
    }
   ],
   "source": [
    "import heapq\n",
    "\n",
    "heapq.heapify(data)\n",
    "print('start:')\n",
    "show_tree(data)\n",
    "\n",
    "for n in [0, 13]:\n",
    "    smallest = heapq.heapreplace(data, n)\n",
    "    print('replace {:>2} with {:>2}:'.format(smallest, n))\n",
    "    show_tree(data)"
   ],
   "metadata": {
    "collapsed": false,
    "pycharm": {
     "name": "#%%\n"
    }
   }
  },
  {
   "cell_type": "code",
   "execution_count": 24,
   "outputs": [
    {
     "name": "stdout",
     "output_type": "stream",
     "text": [
      "all       : [13, 92, 92]\n",
      "3 largest : [92, 92, 13]\n",
      "from sort : [92, 92, 13]\n",
      "3 smallest: [13, 92, 92]\n",
      "from sort : [13, 92, 92]\n"
     ]
    }
   ],
   "source": [
    "import heapq\n",
    "# from heapq_heapdata import data\n",
    "\n",
    "print('all       :', data)\n",
    "print('3 largest :', heapq.nlargest(3, data))\n",
    "print('from sort :', list(reversed(sorted(data)[-3:])))\n",
    "print('3 smallest:', heapq.nsmallest(3, data))\n",
    "print('from sort :', sorted(data)[:3])"
   ],
   "metadata": {
    "collapsed": false,
    "pycharm": {
     "name": "#%%\n"
    }
   }
  },
  {
   "cell_type": "code",
   "execution_count": 28,
   "outputs": [
    {
     "data": {
      "text/plain": "[13, 92, 92]"
     },
     "execution_count": 28,
     "metadata": {},
     "output_type": "execute_result"
    }
   ],
   "source": [
    "# small dataset\n",
    "import itertools\n",
    "list(sorted(itertools.chain(data)))\n"
   ],
   "metadata": {
    "collapsed": false,
    "pycharm": {
     "name": "#%%\n"
    }
   }
  },
  {
   "cell_type": "code",
   "execution_count": 32,
   "outputs": [
    {
     "name": "stdout",
     "output_type": "stream",
     "text": [
      "0: [33, 58, 71, 88, 95]\n",
      "1: [10, 11, 17, 38, 91]\n",
      "2: [13, 18, 39, 61, 63]\n",
      "3: [20, 27, 31, 42, 45]\n",
      "\n",
      "Merged:\n",
      "[33, 58, 71, 88, 95] [10, 11, 17, 38, 91] [13, 18, 39, 61, 63] [20, 27, 31, 42, 45] \n"
     ]
    }
   ],
   "source": [
    "# big dataset\n",
    "import heapq\n",
    "import random\n",
    "\n",
    "random.seed(2016)\n",
    "\n",
    "data = []\n",
    "for i in range(4):\n",
    "    new_data = list(random.sample(range(1, 101), 5))\n",
    "    new_data.sort()\n",
    "    data.append(new_data)\n",
    "\n",
    "for i, d in enumerate(*data):\n",
    "    print('{}: {}'.format(i, d))\n",
    "\n",
    "print('\\nMerged:')\n",
    "for i in heapq.merge(data):\n",
    "    print(i, end=' ')\n",
    "print()"
   ],
   "metadata": {
    "collapsed": false,
    "pycharm": {
     "name": "#%%\n"
    }
   }
  }
 ],
 "metadata": {
  "interpreter": {
   "hash": "b0fa6594d8f4cbf19f97940f81e996739fb7646882a419484c72d19e05852a7e"
  },
  "kernelspec": {
   "name": "python397jvsc74a57bd08bbba42557dad1871038e5d82a5cee12533bc6a394921612203c9254a4ccd62d",
   "language": "python",
   "display_name": "Python 3.9.7 64-bit ('3.9.7': virtualenv)"
  },
  "language_info": {
   "codemirror_mode": {
    "name": "ipython",
    "version": 3
   },
   "file_extension": ".py",
   "mimetype": "text/x-python",
   "name": "python",
   "nbconvert_exporter": "python",
   "pygments_lexer": "ipython3",
   "version": "3.9.7"
  },
  "orig_nbformat": 4
 },
 "nbformat": 4,
 "nbformat_minor": 2
}