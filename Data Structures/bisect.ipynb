{
 "cells": [
  {
   "cell_type": "markdown",
   "metadata": {},
   "source": [
    "本节目标：每次有数据添加到列表时维护列表的有序性但无需调用排序功能"
   ]
  },
  {
   "cell_type": "code",
   "execution_count": 2,
   "metadata": {},
   "outputs": [
    {
     "name": "stdout",
     "output_type": "stream",
     "text": [
      "New  Pos  Contents\n",
      "---  ---  --------\n",
      " 14    0 [14]\n",
      " 85    1 [14, 85]\n",
      " 77    1 [14, 77, 85]\n",
      " 26    1 [14, 26, 77, 85]\n",
      " 50    2 [14, 26, 50, 77, 85]\n",
      " 45    2 [14, 26, 45, 50, 77, 85]\n",
      " 66    4 [14, 26, 45, 50, 66, 77, 85]\n",
      " 79    6 [14, 26, 45, 50, 66, 77, 79, 85]\n",
      " 10    0 [10, 14, 26, 45, 50, 66, 77, 79, 85]\n",
      "  3    0 [3, 10, 14, 26, 45, 50, 66, 77, 79, 85]\n",
      " 84    9 [3, 10, 14, 26, 45, 50, 66, 77, 79, 84, 85]\n",
      " 77    8 [3, 10, 14, 26, 45, 50, 66, 77, 77, 79, 84, 85]\n",
      "  1    0 [1, 3, 10, 14, 26, 45, 50, 66, 77, 77, 79, 84, 85]\n"
     ]
    }
   ],
   "source": [
    "import bisect\n",
    "\n",
    "# 一些随机数\n",
    "values = [14, 85, 77, 26, 50, 45, 66, 79, 10, 3, 84, 77, 1]\n",
    "\n",
    "print('New  Pos  Contents')\n",
    "print('---  ---  --------')\n",
    "\n",
    "l = []\n",
    "for i in values:\n",
    "    position = bisect.bisect(l, i)\n",
    "    bisect.insort(l, i)\n",
    "    print('{:3}  {:3}'.format(i, position), l)"
   ]
  },
  {
   "cell_type": "code",
   "execution_count": 3,
   "metadata": {},
   "outputs": [
    {
     "name": "stdout",
     "output_type": "stream",
     "text": [
      "New  Pos  Contents\n",
      "---  ---  --------\n",
      " 14    0 [14]\n",
      " 85    1 [14, 85]\n",
      " 77    1 [14, 77, 85]\n",
      " 26    1 [14, 26, 77, 85]\n",
      " 50    2 [14, 26, 50, 77, 85]\n",
      " 45    2 [14, 26, 45, 50, 77, 85]\n",
      " 66    4 [14, 26, 45, 50, 66, 77, 85]\n",
      " 79    6 [14, 26, 45, 50, 66, 77, 79, 85]\n",
      " 10    0 [10, 14, 26, 45, 50, 66, 77, 79, 85]\n",
      "  3    0 [3, 10, 14, 26, 45, 50, 66, 77, 79, 85]\n",
      " 84    9 [3, 10, 14, 26, 45, 50, 66, 77, 79, 84, 85]\n",
      " 77    7 [3, 10, 14, 26, 45, 50, 66, 77, 77, 79, 84, 85]\n",
      "  1    0 [1, 3, 10, 14, 26, 45, 50, 66, 77, 77, 79, 84, 85]\n"
     ]
    }
   ],
   "source": [
    "import bisect\n",
    "\n",
    "# 一些随机数\n",
    "values = [14, 85, 77, 26, 50, 45, 66, 79, 10, 3, 84, 77, 1]\n",
    "\n",
    "print('New  Pos  Contents')\n",
    "print('---  ---  --------')\n",
    "\n",
    "# 使用 bisect_left 和 insort_left 来进行后续操作。\n",
    "l = []\n",
    "for i in values:\n",
    "    position = bisect.bisect_left(l, i)\n",
    "    bisect.insort_left(l, i)\n",
    "    print('{:3}  {:3}'.format(i, position), l)"
   ]
  }
 ],
 "metadata": {
  "interpreter": {
   "hash": "8bbba42557dad1871038e5d82a5cee12533bc6a394921612203c9254a4ccd62d"
  },
  "kernelspec": {
   "display_name": "Python 3.9.7 64-bit ('3.9.7': virtualenv)",
   "name": "python3"
  },
  "language_info": {
   "codemirror_mode": {
    "name": "ipython",
    "version": 3
   },
   "file_extension": ".py",
   "mimetype": "text/x-python",
   "name": "python",
   "nbconvert_exporter": "python",
   "pygments_lexer": "ipython3",
   "version": "3.9.7"
  },
  "orig_nbformat": 4
 },
 "nbformat": 4,
 "nbformat_minor": 2
}
