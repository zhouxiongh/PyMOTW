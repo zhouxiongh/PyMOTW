{
 "cells": [
  {
   "cell_type": "code",
   "execution_count": 1,
   "metadata": {},
   "outputs": [],
   "source": [
    "# contextlib_file\n",
    "with open('/tmp/pymotw.txt', 'wt') as f:\n",
    "    f.write('contents go here')"
   ]
  },
  {
   "cell_type": "code",
   "execution_count": 2,
   "metadata": {},
   "outputs": [
    {
     "name": "stdout",
     "output_type": "stream",
     "text": [
      "__init__()\n",
      "__enter__()\n",
      "Doing work in the context\n",
      "__exit__()\n"
     ]
    }
   ],
   "source": [
    "# contextlib_api\n",
    "class Context:\n",
    "\n",
    "    def __init__(self):\n",
    "        print('__init__()')\n",
    "\n",
    "    def __enter__(self):\n",
    "        print('__enter__()')\n",
    "        return self\n",
    "\n",
    "    def __exit__(self, exc_type, exc_val, exc_tb):\n",
    "        print('__exit__()')\n",
    "\n",
    "\n",
    "with Context():\n",
    "    print('Doing work in the context')"
   ]
  }
 ],
 "metadata": {
  "language_info": {
   "name": "python"
  },
  "orig_nbformat": 4
 },
 "nbformat": 4,
 "nbformat_minor": 2
}
