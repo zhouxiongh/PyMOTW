{
 "cells": [
  {
   "cell_type": "code",
   "execution_count": null,
   "metadata": {},
   "outputs": [],
   "source": [
    "# operator_boolean\n",
    "from operator import *\n",
    "\n",
    "a = -1\n",
    "b = 5\n",
    "\n",
    "print('a =', a)\n",
    "print('b =', b)\n",
    "print()\n",
    "\n",
    "print('not_(a)     :', not_(a))\n",
    "print('truth(a)    :', truth(a))\n",
    "print('is_(a, b)   :', is_(a, b))\n",
    "print('is_not(a, b):', is_not(a, b))"
   ]
  },
  {
   "cell_type": "code",
   "execution_count": null,
   "metadata": {},
   "outputs": [],
   "source": [
    "# operator_comparisons\n",
    "from operator import *\n",
    "\n",
    "a = 1\n",
    "b = 5.0\n",
    "\n",
    "print('a =', a)\n",
    "print('b =', b)\n",
    "for func in (lt, le, eq, ne, ge, gt):\n",
    "    print('{}(a, b): {}'.format(func.__name__, func(a, b)))"
   ]
  }
 ],
 "metadata": {
  "interpreter": {
   "hash": "8bbba42557dad1871038e5d82a5cee12533bc6a394921612203c9254a4ccd62d"
  },
  "kernelspec": {
   "display_name": "Python 3.9.7 64-bit ('3.9.7': virtualenv)",
   "name": "python3"
  },
  "language_info": {
   "codemirror_mode": {
    "name": "ipython",
    "version": 3
   },
   "file_extension": ".py",
   "mimetype": "text/x-python",
   "name": "python",
   "nbconvert_exporter": "python",
   "pygments_lexer": "ipython3",
   "version": "3.9.7"
  },
  "orig_nbformat": 4
 },
 "nbformat": 4,
 "nbformat_minor": 2
}
