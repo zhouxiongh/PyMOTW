{
 "cells": [
  {
   "cell_type": "markdown",
   "metadata": {},
   "source": [
    "Purpose: Functions for manipulating clock time"
   ]
  },
  {
   "cell_type": "code",
   "execution_count": 1,
   "metadata": {},
   "outputs": [
    {
     "name": "stdout",
     "output_type": "stream",
     "text": [
      "monotonic:\n",
      "    adjustable    : False\n",
      "    implementation: mach_absolute_time()\n",
      "    monotonic     : True\n",
      "    resolution    : 4.166666666666667e-08\n",
      "    current       : 0.361926291\n",
      "\n",
      "perf_counter:\n",
      "    adjustable    : False\n",
      "    implementation: mach_absolute_time()\n",
      "    monotonic     : True\n",
      "    resolution    : 4.166666666666667e-08\n",
      "    current       : 0.362159291\n",
      "\n",
      "process_time:\n",
      "    adjustable    : False\n",
      "    implementation: clock_gettime(CLOCK_PROCESS_CPUTIME_ID)\n",
      "    monotonic     : True\n",
      "    resolution    : 1.0000000000000002e-06\n",
      "    current       : 0.295201\n",
      "\n",
      "time:\n",
      "    adjustable    : True\n",
      "    implementation: clock_gettime(CLOCK_REALTIME)\n",
      "    monotonic     : False\n",
      "    resolution    : 1.0000000000000002e-06\n",
      "    current       : 1636113858.58011\n",
      "\n"
     ]
    }
   ],
   "source": [
    "# time_get_clock_info\n",
    "import textwrap\n",
    "import time\n",
    "\n",
    "available_clocks = [\n",
    "    ('monotonic', time.monotonic),\n",
    "    ('perf_counter', time.perf_counter),\n",
    "    ('process_time', time.process_time),\n",
    "    ('time', time.time),\n",
    "]\n",
    "\n",
    "for clock_name, func in available_clocks:\n",
    "    print(textwrap.dedent('''\\\n",
    "    {name}:\n",
    "        adjustable    : {info.adjustable}\n",
    "        implementation: {info.implementation}\n",
    "        monotonic     : {info.monotonic}\n",
    "        resolution    : {info.resolution}\n",
    "        current       : {current}\n",
    "    ''').format(\n",
    "        name=clock_name,\n",
    "        info=time.get_clock_info(clock_name),\n",
    "        current=func())\n",
    "    )"
   ]
  },
  {
   "cell_type": "code",
   "execution_count": 62,
   "metadata": {},
   "outputs": [
    {
     "name": "stdout",
     "output_type": "stream",
     "text": [
      "The time is 1636062578.776955\n"
     ]
    }
   ],
   "source": [
    "# time_time \n",
    "import time\n",
    "print('The time is', time.time())"
   ]
  },
  {
   "cell_type": "code",
   "execution_count": 63,
   "metadata": {},
   "outputs": [
    {
     "name": "stdout",
     "output_type": "stream",
     "text": [
      "The time is      : Fri Nov  5 05:49:38 2021\n",
      "15 secs from now : Fri Nov  5 05:49:53 2021\n"
     ]
    }
   ],
   "source": [
    "\n",
    "import time\n",
    "\n",
    "print('The time is      :', time.ctime())\n",
    "later = time.time() + 15\n",
    "print('15 secs from now :', time.ctime(later))"
   ]
  },
  {
   "cell_type": "code",
   "execution_count": 64,
   "metadata": {
    "pycharm": {
     "name": "#%%\n"
    }
   },
   "outputs": [
    {
     "name": "stdout",
     "output_type": "stream",
     "text": [
      "start : 215634.26\n",
      "end   : 215634.37\n",
      "span  :      0.10\n"
     ]
    }
   ],
   "source": [
    "# time_monotonic.py\n",
    "import time\n",
    "\n",
    "start = time.monotonic()\n",
    "time.sleep(0.1)\n",
    "end = time.monotonic()\n",
    "print('start : {:>9.2f}'.format(start))\n",
    "print('end   : {:>9.2f}'.format(end))\n",
    "print('span  : {:>9.2f}'.format(end - start))"
   ]
  }
 ],
 "metadata": {
  "interpreter": {
   "hash": "8bbba42557dad1871038e5d82a5cee12533bc6a394921612203c9254a4ccd62d"
  },
  "kernelspec": {
   "display_name": "Python 3.9.7 64-bit ('3.9.7': virtualenv)",
   "name": "python3"
  },
  "language_info": {
   "codemirror_mode": {
    "name": "ipython",
    "version": 3
   },
   "file_extension": ".py",
   "mimetype": "text/x-python",
   "name": "python",
   "nbconvert_exporter": "python",
   "pygments_lexer": "ipython3",
   "version": "3.9.7"
  },
  "orig_nbformat": 4
 },
 "nbformat": 4,
 "nbformat_minor": 2
}